{
 "cells": [
  {
   "cell_type": "markdown",
   "id": "227b8950-d19c-4ee1-ab67-548217e1839f",
   "metadata": {},
   "source": [
    "#  Multi-Color Detection using OpenCV (with Colored Bounding Boxes)\n",
    "\n",
    "\n",
    "\n",
    "##  Introduction\n",
    "\n",
    "Color detection is one of the most fundamental tasks in **computer vision**.  \n",
    "It allows us to identify and isolate specific colors in real-time video streams.  \n",
    "\n",
    "### Why is this unique?  \n",
    "\n",
    "- Instead of detecting just one color, we will detect **multiple colors**.  \n",
    "- We’ll use **bounding boxes** (like face detection) to highlight where those colors appear.  \n",
    "- Bounding boxes will be drawn in the **same color as the detected object** (unique visual effect).  \n",
    "- Works with **live webcam feed**.  \n",
    "\n",
    "### Applications:  \n",
    "- Object sorting (by color).  \n",
    "- Traffic light detection.  \n",
    "- Industrial inspection.  \n",
    "- Educational/learning projects.  \n",
    "\n",
    "\n",
    "\n",
    "##  Theory  \n",
    "\n",
    "### Colors in Computer Vision \n",
    "\n",
    "- OpenCV reads images in **BGR format**.  \n",
    "- Detecting colors directly in BGR is hard → **we convert to HSV**.  \n",
    "\n",
    "**Why HSV?**\n",
    "\n",
    "- **Hue** = color type (Red, Blue, Green, etc.).  \n",
    "- **Saturation** = intensity of the color.  \n",
    "- **Value** = brightness.  \n",
    "\n",
    "HSV makes it easier to **define color ranges** (for example, red ≈ 0° in Hue).  \n",
    "\n",
    "\n",
    "###  Steps for Color Detection\n",
    "1. Capture video from webcam.  \n",
    "2. Convert frame **BGR → HSV**.  \n",
    "3. Define **lower and upper HSV ranges** for each color.  \n",
    "4. Create a **mask** using `cv2.inRange()` → highlights only that color.  \n",
    "5. Find **contours** of detected areas.  \n",
    "6. Draw **bounding boxes** around them.  \n",
    "7. Use **the same color for bounding box + label**.  \n",
    "\n",
    "\n"
   ]
  },
  {
   "cell_type": "markdown",
   "id": "9787a9e6-722d-451d-b605-c578afa724e4",
   "metadata": {},
   "source": [
    "# Implementation\n",
    "\n",
    "## Import Libraries\n",
    "- cv2 → OpenCV library for computer vision.\n",
    "- numpy → handle arrays, ranges, masks."
   ]
  },
  {
   "cell_type": "code",
   "execution_count": 1,
   "id": "7da33771-4666-456b-b219-e210a9a5f975",
   "metadata": {},
   "outputs": [],
   "source": [
    "import cv2\n",
    "import numpy as np"
   ]
  },
  {
   "cell_type": "markdown",
   "id": "04a15c14-f360-4bfd-bdba-b4d1f434ffd1",
   "metadata": {},
   "source": [
    "## Open Webcam\n",
    "cv2.VideoCapture(0) opens your **default camera**.\n",
    "\n",
    "- 0 = built-in camera.\n",
    "- 1 or 2 = external cameras."
   ]
  },
  {
   "cell_type": "code",
   "execution_count": 2,
   "id": "806e8c87-8f50-4368-a247-e0544ac40546",
   "metadata": {},
   "outputs": [],
   "source": [
    "cap = cv2.VideoCapture(0)\n",
    "\n",
    "if not cap.isOpened():\n",
    "    print(\"Error: Could not access the webcam\")\n"
   ]
  },
  {
   "cell_type": "markdown",
   "id": "77bcb3fd-9b51-4fd3-b88a-27e23c71b4e3",
   "metadata": {},
   "source": [
    "## Define Color Ranges\n",
    "\n",
    "We define HSV ranges for multiple colors & shades.\n",
    "\n",
    "- lower HSV range (minimum color values).\n",
    "- upper HSV range (maximum color values)."
   ]
  },
  {
   "cell_type": "code",
   "execution_count": 3,
   "id": "cc60ff82-62bb-44f3-babf-00999f906ec3",
   "metadata": {},
   "outputs": [],
   "source": [
    "color_ranges = {\n",
    "    \"Red\": ([0, 120, 70], [10, 255, 255]),\n",
    "    \"Dark Red\": ([170, 120, 70], [180, 255, 255]),\n",
    "    \"Green\": ([36, 25, 25], [86, 255, 255]),\n",
    "    \"Light Blue\": ([90, 50, 50], [110, 255, 255]),\n",
    "    \"Dark Blue\": ([111, 84, 46], [131, 255, 255]),\n",
    "    \"Yellow\": ([20, 100, 100], [30, 255, 255]),\n",
    "    \"Orange\": ([10, 100, 20], [25, 255, 255]),\n",
    "    \"Purple\": ([129, 50, 70], [158, 255, 255]),\n",
    "    \"Pink\": ([160, 50, 70], [170, 255, 255])\n",
    "}\n"
   ]
  },
  {
   "cell_type": "markdown",
   "id": "42628667-08c6-47aa-a126-8116055d23bd",
   "metadata": {},
   "source": [
    "## Assign BGR Colors for Bounding Boxes\n",
    "Example: (0,0,255) = Red, (0,255,0) = Green."
   ]
  },
  {
   "cell_type": "code",
   "execution_count": 4,
   "id": "8716c110-d04b-46c8-ba9f-b5e5f0138bb8",
   "metadata": {},
   "outputs": [],
   "source": [
    "color_bgr = {\n",
    "    \"Red\": (0, 0, 255),\n",
    "    \"Dark Red\": (0, 0, 200),\n",
    "    \"Green\": (0, 255, 0),\n",
    "    \"Light Blue\": (255, 200, 100),\n",
    "    \"Dark Blue\": (200, 100, 50),\n",
    "    \"Yellow\": (0, 255, 255),\n",
    "    \"Orange\": (0, 165, 255),\n",
    "    \"Purple\": (128, 0, 128),\n",
    "    \"Pink\": (180, 105, 255)\n",
    "}"
   ]
  },
  {
   "cell_type": "markdown",
   "id": "241715e5-c8b0-4685-a8c4-e680534ff288",
   "metadata": {},
   "source": [
    "# Live Loop for Detection\n",
    "- Reads one frame at a time.\n",
    "- Converts it to HSV."
   ]
  },
  {
   "cell_type": "code",
   "execution_count": 5,
   "id": "7428b8b5-39d1-4729-841e-d2d0874e1b00",
   "metadata": {},
   "outputs": [
    {
     "ename": "KeyboardInterrupt",
     "evalue": "",
     "output_type": "error",
     "traceback": [
      "\u001b[31m---------------------------------------------------------------------------\u001b[39m",
      "\u001b[31mKeyboardInterrupt\u001b[39m                         Traceback (most recent call last)",
      "\u001b[36mCell\u001b[39m\u001b[36m \u001b[39m\u001b[32mIn[5]\u001b[39m\u001b[32m, line 2\u001b[39m\n\u001b[32m      1\u001b[39m \u001b[38;5;28;01mwhile\u001b[39;00m \u001b[38;5;28;01mTrue\u001b[39;00m:\n\u001b[32m----> \u001b[39m\u001b[32m2\u001b[39m     ret, frame = \u001b[43mcap\u001b[49m\u001b[43m.\u001b[49m\u001b[43mread\u001b[49m\u001b[43m(\u001b[49m\u001b[43m)\u001b[49m\n\u001b[32m      3\u001b[39m     \u001b[38;5;28;01mif\u001b[39;00m \u001b[38;5;129;01mnot\u001b[39;00m ret:\n\u001b[32m      4\u001b[39m         \u001b[38;5;28;01mbreak\u001b[39;00m\n",
      "\u001b[31mKeyboardInterrupt\u001b[39m: "
     ]
    }
   ],
   "source": [
    "while True:\n",
    "    ret, frame = cap.read()\n",
    "    if not ret:\n",
    "        break\n",
    "\n",
    "    hsv = cv2.cvtColor(frame, cv2.COLOR_BGR2HSV)"
   ]
  },
  {
   "cell_type": "markdown",
   "id": "087bc565-4562-4016-a7d3-16da8415966e",
   "metadata": {},
   "source": [
    "## Detect Each Color\n",
    "**Steps inside loop:**\n",
    "\n",
    "- cv2.inRange() → binary mask of detected color.\n",
    "- cv2.findContours() → finds boundaries of detected regions.\n",
    "- cv2.contourArea() → filters out small noisy detections.\n",
    "- cv2.boundingRect() → draws a rectangle around detected area.\n",
    "- cv2.rectangle() → draws bounding box in the same color.\n",
    "- cv2.putText() → writes detected color name above the box."
   ]
  },
  {
   "cell_type": "code",
   "execution_count": null,
   "id": "59cc77c8-c394-4816-977e-0717002158c8",
   "metadata": {},
   "outputs": [],
   "source": [
    "for color_name, (lower, upper) in color_ranges.items():\n",
    "        lower_np = np.array(lower)\n",
    "        upper_np = np.array(upper)\n",
    "\n",
    "        # Create mask\n",
    "        mask = cv2.inRange(hsv, lower_np, upper_np)\n",
    "\n",
    "        # Find contours\n",
    "        contours, _ = cv2.findContours(mask, cv2.RETR_TREE, cv2.CHAIN_APPROX_SIMPLE)\n",
    "\n",
    "        for cnt in contours:\n",
    "            area = cv2.contourArea(cnt)\n",
    "            if area > 1000:  # ignore small detections\n",
    "                x, y, w, h = cv2.boundingRect(cnt)\n",
    "                cv2.rectangle(frame, (x, y), (x + w, y + h), color_bgr[color_name], 3)\n",
    "                cv2.putText(frame, color_name, (x, y - 10),\n",
    "                            cv2.FONT_HERSHEY_SIMPLEX, 0.7, color_bgr[color_name], 2, cv2.LINE_AA)\n"
   ]
  },
  {
   "cell_type": "markdown",
   "id": "5667673e-0370-42a9-8b02-8ab9889953a1",
   "metadata": {},
   "source": [
    "## Show Frame & Exit Key\n",
    "- Shows only one window (Color Detection).\n",
    "-  Press Esc to close."
   ]
  },
  {
   "cell_type": "code",
   "execution_count": null,
   "id": "7867fff0-ad0b-4896-b4b5-635c02cff4e4",
   "metadata": {},
   "outputs": [],
   "source": [
    "cv2.imshow(\"Color Detection\", frame)\n",
    "\n",
    "if cv2.waitKey(1) & 0xFF == 27:  # Esc key\n",
    "        break\n",
    "\n",
    "cap.release()\n",
    "cv2.destroyAllWindows()\n"
   ]
  },
  {
   "cell_type": "markdown",
   "id": "c32021fc-1e04-436a-8215-2034f5a2409b",
   "metadata": {},
   "source": [
    "## Final Output\n",
    "\n",
    "- Original webcam feed is shown.\n",
    "- When a color is detected → bounding box in that exact color is drawn.\n",
    "- Color name appears above the box.\n",
    "- Works for multiple colors at once."
   ]
  },
  {
   "cell_type": "markdown",
   "id": "fe3bef76-d3e8-4e8e-899f-613809914fec",
   "metadata": {},
   "source": [
    "## Example Output\n",
    "Below is a sample output screenshot from my project:\n",
    "\n",
    "![Color Detection Output](Color_Detection.PNG)\n",
    "\n",
    "> This shows how the program detects multiple colors in real-time, draws bounding boxes, and labels them with the correct color names."
   ]
  },
  {
   "cell_type": "markdown",
   "id": "dfa1473d-b254-4e7a-bbd6-41286a818ca8",
   "metadata": {},
   "source": [
    "# Key Learnings\n",
    "\n",
    "- HSV color space is better for detection than BGR.\n",
    "- Using masks + contours helps locate colored regions.\n",
    "- Bounding boxes + labels make detection intuitive (like face detection).\n",
    "- Mapping HSV to BGR makes boxes look natural.\n",
    "- You can extend this to detect any number of colors by just adding ranges."
   ]
  }
 ],
 "metadata": {
  "kernelspec": {
   "display_name": "Python 3",
   "language": "python",
   "name": "python3"
  },
  "language_info": {
   "codemirror_mode": {
    "name": "ipython",
    "version": 3
   },
   "file_extension": ".py",
   "mimetype": "text/x-python",
   "name": "python",
   "nbconvert_exporter": "python",
   "pygments_lexer": "ipython3",
   "version": "3.13.3"
  }
 },
 "nbformat": 4,
 "nbformat_minor": 5
}
